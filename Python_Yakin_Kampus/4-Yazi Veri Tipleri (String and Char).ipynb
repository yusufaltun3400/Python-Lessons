{
 "cells": [
  {
   "cell_type": "markdown",
   "metadata": {},
   "source": [
    "Yazilar"
   ]
  },
  {
   "cell_type": "code",
   "execution_count": 1,
   "metadata": {},
   "outputs": [
    {
     "name": "stdout",
     "output_type": "stream",
     "text": [
      "Python\n"
     ]
    }
   ],
   "source": [
    "strvar = \"Python\"\n",
    "print(strvar)"
   ]
  },
  {
   "cell_type": "code",
   "execution_count": 4,
   "metadata": {},
   "outputs": [
    {
     "data": {
      "text/plain": [
       "'P'"
      ]
     },
     "execution_count": 4,
     "metadata": {},
     "output_type": "execute_result"
    }
   ],
   "source": [
    "strvar[0]\n"
   ]
  },
  {
   "cell_type": "markdown",
   "metadata": {},
   "source": [
    "[] # tek bir eleman alinir \n",
    "[:] baslangic ve bitis arasundaki elemanlar alinir\n",
    "[::] baslangic ve bitis arasaindaki elemanlar ucuncu kisimdaki degere gore atlayarak degerler alinir"
   ]
  },
  {
   "cell_type": "code",
   "execution_count": 5,
   "metadata": {},
   "outputs": [
    {
     "data": {
      "text/plain": [
       "'h'"
      ]
     },
     "execution_count": 5,
     "metadata": {},
     "output_type": "execute_result"
    }
   ],
   "source": [
    "strvar[-3]\n"
   ]
  },
  {
   "cell_type": "code",
   "execution_count": 11,
   "metadata": {},
   "outputs": [
    {
     "name": "stdout",
     "output_type": "stream",
     "text": [
      "thon\n",
      "Pyt\n",
      "th\n",
      "Python\n"
     ]
    }
   ],
   "source": [
    "print(strvar[2:])\n",
    "print(strvar[:3])\n",
    "print(strvar[2:4])\n",
    "print(strvar)"
   ]
  },
  {
   "cell_type": "code",
   "execution_count": 13,
   "metadata": {},
   "outputs": [
    {
     "name": "stdout",
     "output_type": "stream",
     "text": [
      "yh\n",
      "yo\n"
     ]
    }
   ],
   "source": [
    "print(strvar[1:5:2])\n",
    "# 1´den 5´e kadar ikiser atla. Bundan dolayi 1 ve 5 in arasinda ´ytho´ oldugu icin y harfini aldiktan sonra gelen ikinci degeri atlayip\n",
    "# ´h´harfini yazdirdi \n",
    "print(strvar[1:5:3])\n",
    "#Burada ise ayni mantik uygulaniyor. 1 ila 5 arasindaki ´ytho´ icerisinde ilk deger olan y´yi aldiktan sonra, y´den sonra gelen\n",
    "#ikinci ve ücüncü degeri atlayip direkt olarak dörduncu degeri (o) cikti olarak veriyor"
   ]
  },
  {
   "cell_type": "markdown",
   "metadata": {},
   "source": [
    "Uzunluk"
   ]
  },
  {
   "cell_type": "code",
   "execution_count": 14,
   "metadata": {},
   "outputs": [
    {
     "data": {
      "text/plain": [
       "6"
      ]
     },
     "execution_count": 14,
     "metadata": {},
     "output_type": "execute_result"
    }
   ],
   "source": [
    "len(strvar)"
   ]
  },
  {
   "cell_type": "markdown",
   "metadata": {},
   "source": [
    "Toplama islemi"
   ]
  },
  {
   "cell_type": "code",
   "execution_count": 16,
   "metadata": {},
   "outputs": [
    {
     "data": {
      "text/plain": [
       "'Python ogren!!'"
      ]
     },
     "execution_count": 16,
     "metadata": {},
     "output_type": "execute_result"
    }
   ],
   "source": [
    "strvar = strvar + \" ogren!!\"\n",
    "strvar"
   ]
  },
  {
   "cell_type": "code",
   "execution_count": 17,
   "metadata": {},
   "outputs": [
    {
     "data": {
      "text/plain": [
       "'Python ogren!!'"
      ]
     },
     "execution_count": 17,
     "metadata": {},
     "output_type": "execute_result"
    }
   ],
   "source": [
    "strvar"
   ]
  },
  {
   "cell_type": "markdown",
   "metadata": {},
   "source": [
    "Carpma islemi"
   ]
  },
  {
   "cell_type": "code",
   "execution_count": 18,
   "metadata": {},
   "outputs": [
    {
     "data": {
      "text/plain": [
       "'Python ogren!!Python ogren!!Python ogren!!Python ogren!!Python ogren!!'"
      ]
     },
     "execution_count": 18,
     "metadata": {},
     "output_type": "execute_result"
    }
   ],
   "source": [
    "strvar * 5"
   ]
  },
  {
   "cell_type": "code",
   "execution_count": 19,
   "metadata": {},
   "outputs": [
    {
     "data": {
      "text/plain": [
       "'Python ogren!!'"
      ]
     },
     "execution_count": 19,
     "metadata": {},
     "output_type": "execute_result"
    }
   ],
   "source": [
    "strvar"
   ]
  },
  {
   "cell_type": "markdown",
   "metadata": {},
   "source": [
    ".upper() harfleri buyuk olarak yazar\n",
    ".lower() harfleri kucuk olarak yazar"
   ]
  },
  {
   "cell_type": "code",
   "execution_count": 28,
   "metadata": {},
   "outputs": [
    {
     "name": "stdout",
     "output_type": "stream",
     "text": [
      "PYTHON OGREN!!\n",
      "python ogren!!\n"
     ]
    }
   ],
   "source": [
    "print(strvar.upper())\n",
    "print(strvar.lower())"
   ]
  },
  {
   "cell_type": "markdown",
   "metadata": {},
   "source": [
    ".split() Python ogren! yazisini bosluklardan iki farkli eleman olarak listeye ekler\n",
    ".split(\"o\") olursa Python ogren! yazisi icerisinde bulunan \"o\" harflerinden ayirarak 3 fakli eleman olarak listeye ekler. \"o\" ´nun \n",
    "yerine herhangi bir harf ya da noktalama isareti gelebilir\n",
    "print(strvar.split(sep=\"o\", maxsplit=1)) bu komutta ise .split(\"o) ile ayni islevi gerceklestirir. Fakat maxsplit=1 olursa, ilk \"o\" dan sonra 1 defa ayirma islemini yapar. Eger ki maxsplit=2 olursa ayirma islemini iki defa yapar."
   ]
  },
  {
   "cell_type": "code",
   "execution_count": 26,
   "metadata": {},
   "outputs": [
    {
     "name": "stdout",
     "output_type": "stream",
     "text": [
      "['Python', 'ogren!!']\n",
      "['Pyth', 'n ', 'gren!!']\n",
      "['Pyth', 'n ogren!!']\n",
      "['Pyth', 'n ', 'gren!!']\n"
     ]
    }
   ],
   "source": [
    "print (strvar.split())\n",
    "print(strvar.split(\"o\"))\n",
    "print(strvar.split(sep=\"o\", maxsplit=1))\n",
    "print(strvar.split(sep=\"o\", maxsplit=2))\n"
   ]
  }
 ],
 "metadata": {
  "interpreter": {
   "hash": "aee8b7b246df8f9039afb4144a1f6fd8d2ca17a180786b69acc140d282b71a49"
  },
  "kernelspec": {
   "display_name": "Python 3.10.4 64-bit",
   "language": "python",
   "name": "python3"
  },
  "language_info": {
   "codemirror_mode": {
    "name": "ipython",
    "version": 3
   },
   "file_extension": ".py",
   "mimetype": "text/x-python",
   "name": "python",
   "nbconvert_exporter": "python",
   "pygments_lexer": "ipython3",
   "version": "3.10.4"
  },
  "orig_nbformat": 4
 },
 "nbformat": 4,
 "nbformat_minor": 2
}
