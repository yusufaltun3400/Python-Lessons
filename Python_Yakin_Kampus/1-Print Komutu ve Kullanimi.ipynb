{
 "cells": [
  {
   "cell_type": "code",
   "execution_count": 9,
   "id": "f88adb2c",
   "metadata": {},
   "outputs": [
    {
     "name": "stdout",
     "output_type": "stream",
     "text": [
      " Merhaba \n",
      " Ben Yusuf\n",
      " Merhaba \t Ben Yusuf\n"
     ]
    }
   ],
   "source": [
    "print (\" Merhaba \\n Ben Yusuf\")\n",
    "print (\" Merhaba \\t Ben Yusuf\")"
   ]
  },
  {
   "cell_type": "code",
   "execution_count": 14,
   "id": "1bdea70b",
   "metadata": {},
   "outputs": [
    {
     "name": "stdout",
     "output_type": "stream",
     "text": [
      " Merhaba Ben Yusuf\n",
      " Merhaba Ben 24, ben Yusuf yasindayim\n"
     ]
    }
   ],
   "source": [
    "print (\" Merhaba Ben {}\".format(\"Yusuf\"))\n",
    "print (\" Merhaba Ben {1}, ben {0} yasindayim\".format(\"Yusuf\",24))\n"
   ]
  },
  {
   "cell_type": "code",
   "execution_count": 15,
   "id": "18f69d3a",
   "metadata": {},
   "outputs": [
    {
     "name": "stdout",
     "output_type": "stream",
     "text": [
      " Merhaba Ben Yusuf, ben 24 yasindayim\n"
     ]
    }
   ],
   "source": [
    "print (\" Merhaba Ben {0}, ben {1} yasindayim\".format(\"Yusuf\",24))"
   ]
  },
  {
   "cell_type": "code",
   "execution_count": 17,
   "id": "fabf5cde",
   "metadata": {},
   "outputs": [
    {
     "name": "stdout",
     "output_type": "stream",
     "text": [
      "Benim adim Yusuf, yasim 24\n"
     ]
    }
   ],
   "source": [
    "print(\"Benim adim {ad}, yasim {yas}\".format(ad=\"Yusuf\",yas=\"24\"))"
   ]
  },
  {
   "cell_type": "code",
   "execution_count": 1,
   "id": "f6959f53",
   "metadata": {},
   "outputs": [
    {
     "name": "stdout",
     "output_type": "stream",
     "text": [
      "adm\n"
     ]
    }
   ],
   "source": [
    "print(\"adm\")"
   ]
  },
  {
   "cell_type": "code",
   "execution_count": null,
   "id": "5e7d1b8b",
   "metadata": {},
   "outputs": [],
   "source": []
  },
  {
   "cell_type": "code",
   "execution_count": null,
   "id": "704d6a83",
   "metadata": {},
   "outputs": [],
   "source": []
  },
  {
   "cell_type": "code",
   "execution_count": null,
   "id": "31a424a2",
   "metadata": {},
   "outputs": [],
   "source": []
  },
  {
   "cell_type": "code",
   "execution_count": null,
   "id": "b8c64185",
   "metadata": {},
   "outputs": [],
   "source": []
  },
  {
   "cell_type": "code",
   "execution_count": null,
   "id": "461fe6f6",
   "metadata": {},
   "outputs": [],
   "source": []
  },
  {
   "cell_type": "code",
   "execution_count": null,
   "id": "815fa555",
   "metadata": {},
   "outputs": [],
   "source": []
  },
  {
   "cell_type": "code",
   "execution_count": null,
   "id": "96b9a6dd",
   "metadata": {},
   "outputs": [],
   "source": []
  },
  {
   "cell_type": "code",
   "execution_count": null,
   "id": "fe546b74",
   "metadata": {},
   "outputs": [],
   "source": []
  },
  {
   "cell_type": "code",
   "execution_count": null,
   "id": "9caf8612",
   "metadata": {},
   "outputs": [],
   "source": []
  },
  {
   "cell_type": "code",
   "execution_count": null,
   "id": "60ee775e",
   "metadata": {},
   "outputs": [],
   "source": []
  }
 ],
 "metadata": {
  "kernelspec": {
   "display_name": "Python 3 (ipykernel)",
   "language": "python",
   "name": "python3"
  },
  "language_info": {
   "codemirror_mode": {
    "name": "ipython",
    "version": 3
   },
   "file_extension": ".py",
   "mimetype": "text/x-python",
   "name": "python",
   "nbconvert_exporter": "python",
   "pygments_lexer": "ipython3",
   "version": "3.9.7"
  }
 },
 "nbformat": 4,
 "nbformat_minor": 5
}
