{
 "cells": [
  {
   "cell_type": "markdown",
   "metadata": {},
   "source": [
    "Etrafinda () parantez icerisinde olan ve  DEGISTIRILEMEZ TIPTEKI listelere verilen isimdir"
   ]
  },
  {
   "cell_type": "code",
   "execution_count": 1,
   "metadata": {},
   "outputs": [
    {
     "name": "stdout",
     "output_type": "stream",
     "text": [
      "['a', 'b', 'c', 'd', 'e', 'a']\n",
      "('a', 'b', 'c', 'd', 'e', 'a')\n"
     ]
    }
   ],
   "source": [
    "liste = [\"a\",\"b\",\"c\",\"d\",\"e\",\"a\"]\n",
    "print(liste)\n",
    "tup = (\"a\",\"b\",\"c\",\"d\",\"e\",\"a\")\n",
    "print(tup)"
   ]
  },
  {
   "cell_type": "code",
   "execution_count": 2,
   "metadata": {},
   "outputs": [
    {
     "data": {
      "text/plain": [
       "[123, 'b', 'c', 'd', 'e', 'a']"
      ]
     },
     "execution_count": 2,
     "metadata": {},
     "output_type": "execute_result"
    }
   ],
   "source": [
    "liste[0]= 123\n",
    "liste"
   ]
  },
  {
   "cell_type": "code",
   "execution_count": 6,
   "metadata": {},
   "outputs": [
    {
     "name": "stdout",
     "output_type": "stream",
     "text": [
      "('a', 'b', 'c')\n"
     ]
    },
    {
     "ename": "TypeError",
     "evalue": "'tuple' object does not support item assignment",
     "output_type": "error",
     "traceback": [
      "\u001b[0;31m---------------------------------------------------------------------------\u001b[0m",
      "\u001b[0;31mTypeError\u001b[0m                                 Traceback (most recent call last)",
      "\u001b[1;32m/Users/yusuf/Desktop/Code/Python-Lessons/Python_Yakin_Kampus/7-Sabit Koleksiyon Veri Tipi (Tuple).ipynb Cell 4'\u001b[0m in \u001b[0;36m<cell line: 2>\u001b[0;34m()\u001b[0m\n\u001b[1;32m      <a href='vscode-notebook-cell:/Users/yusuf/Desktop/Code/Python-Lessons/Python_Yakin_Kampus/7-Sabit%20Koleksiyon%20Veri%20Tipi%20%28Tuple%29.ipynb#ch0000003?line=0'>1</a>\u001b[0m \u001b[39mprint\u001b[39m (tup[\u001b[39m0\u001b[39m:\u001b[39m3\u001b[39m])\n\u001b[0;32m----> <a href='vscode-notebook-cell:/Users/yusuf/Desktop/Code/Python-Lessons/Python_Yakin_Kampus/7-Sabit%20Koleksiyon%20Veri%20Tipi%20%28Tuple%29.ipynb#ch0000003?line=1'>2</a>\u001b[0m tup[\u001b[39m0\u001b[39m] \u001b[39m=\u001b[39m \u001b[39m123\u001b[39m\n\u001b[1;32m      <a href='vscode-notebook-cell:/Users/yusuf/Desktop/Code/Python-Lessons/Python_Yakin_Kampus/7-Sabit%20Koleksiyon%20Veri%20Tipi%20%28Tuple%29.ipynb#ch0000003?line=2'>3</a>\u001b[0m \u001b[39mprint\u001b[39m(tup)\n",
      "\u001b[0;31mTypeError\u001b[0m: 'tuple' object does not support item assignment"
     ]
    }
   ],
   "source": [
    "print (tup[0:3])\n",
    "tup[0] = 123 # degerler degistirilemez.\n",
    "print(tup)"
   ]
  },
  {
   "cell_type": "code",
   "execution_count": 12,
   "metadata": {},
   "outputs": [
    {
     "name": "stdout",
     "output_type": "stream",
     "text": [
      "2\n",
      "0\n",
      "0\n",
      "5\n"
     ]
    }
   ],
   "source": [
    "print (tup.count(\"a\")) # Listede kac tane \"a\" gectigini cikti olarak verir.\n",
    "print (tup.count(True))\n",
    "print(tup.index(\"a\")) # Listede hangi indexte (konumda) oldugunu cikti olarak verir.\n",
    "print (tup.index(\"a\",2))"
   ]
  },
  {
   "cell_type": "code",
   "execution_count": 11,
   "metadata": {},
   "outputs": [
    {
     "ename": "ValueError",
     "evalue": "tuple.index(x): x not in tuple",
     "output_type": "error",
     "traceback": [
      "\u001b[0;31m---------------------------------------------------------------------------\u001b[0m",
      "\u001b[0;31mValueError\u001b[0m                                Traceback (most recent call last)",
      "\u001b[1;32m/Users/yusuf/Desktop/Code/Python-Lessons/Python_Yakin_Kampus/7-Sabit Koleksiyon Veri Tipi (Tuple).ipynb Cell 6'\u001b[0m in \u001b[0;36m<cell line: 1>\u001b[0;34m()\u001b[0m\n\u001b[0;32m----> <a href='vscode-notebook-cell:/Users/yusuf/Desktop/Code/Python-Lessons/Python_Yakin_Kampus/7-Sabit%20Koleksiyon%20Veri%20Tipi%20%28Tuple%29.ipynb#ch0000005?line=0'>1</a>\u001b[0m tup\u001b[39m.\u001b[39;49mindex(\u001b[39mTrue\u001b[39;49;00m)\n",
      "\u001b[0;31mValueError\u001b[0m: tuple.index(x): x not in tuple"
     ]
    }
   ],
   "source": [
    "tup.index(True) # tuple icerisnde arama yaparsan valueError verir. count bolumunde sayma yaparken sifir \"0\" sonucunu verir.\n",
    "#fakat burada ValueError seklinde hata verir."
   ]
  }
 ],
 "metadata": {
  "interpreter": {
   "hash": "aee8b7b246df8f9039afb4144a1f6fd8d2ca17a180786b69acc140d282b71a49"
  },
  "kernelspec": {
   "display_name": "Python 3.10.4 64-bit",
   "language": "python",
   "name": "python3"
  },
  "language_info": {
   "codemirror_mode": {
    "name": "ipython",
    "version": 3
   },
   "file_extension": ".py",
   "mimetype": "text/x-python",
   "name": "python",
   "nbconvert_exporter": "python",
   "pygments_lexer": "ipython3",
   "version": "3.10.4"
  },
  "orig_nbformat": 4
 },
 "nbformat": 4,
 "nbformat_minor": 2
}
