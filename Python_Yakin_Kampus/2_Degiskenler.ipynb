{
 "cells": [
  {
   "cell_type": "code",
   "execution_count": 1,
   "id": "f4233142",
   "metadata": {},
   "outputs": [
    {
     "name": "stdout",
     "output_type": "stream",
     "text": [
      "10\n"
     ]
    }
   ],
   "source": [
    "sayi=10\n",
    "sayi2 =34 \n",
    "print(sayi)"
   ]
  },
  {
   "cell_type": "code",
   "execution_count": 2,
   "id": "725ce7a0",
   "metadata": {},
   "outputs": [
    {
     "name": "stdout",
     "output_type": "stream",
     "text": [
      "11\n"
     ]
    }
   ],
   "source": [
    "sayi = sayi + 1\n",
    "print(sayi)"
   ]
  },
  {
   "cell_type": "code",
   "execution_count": 3,
   "id": "6189020c",
   "metadata": {},
   "outputs": [
    {
     "name": "stdout",
     "output_type": "stream",
     "text": [
      "10\n"
     ]
    }
   ],
   "source": [
    "sayi_ilk = 10\n",
    "print(sayi_ilk)"
   ]
  },
  {
   "cell_type": "code",
   "execution_count": 4,
   "id": "04e5ec4d",
   "metadata": {},
   "outputs": [],
   "source": [
    "#1sayi = 10 sayi degiskenin onune rakam veya sayi gelemez"
   ]
  },
  {
   "cell_type": "code",
   "execution_count": 5,
   "id": "7cfaa414",
   "metadata": {},
   "outputs": [
    {
     "name": "stdout",
     "output_type": "stream",
     "text": [
      "<built-in function print>\n"
     ]
    }
   ],
   "source": [
    "print(print)"
   ]
  },
  {
   "cell_type": "code",
   "execution_count": 6,
   "id": "fd126a77",
   "metadata": {},
   "outputs": [
    {
     "name": "stdout",
     "output_type": "stream",
     "text": [
      "Ellipsis\n"
     ]
    }
   ],
   "source": [
    "print(...)"
   ]
  },
  {
   "cell_type": "code",
   "execution_count": 7,
   "id": "d6a74dcf",
   "metadata": {},
   "outputs": [],
   "source": [
    "#print(adam) \"\" isaretinin icerisinde yazman gerekiyor"
   ]
  },
  {
   "cell_type": "code",
   "execution_count": 8,
   "id": "c8132b9a",
   "metadata": {},
   "outputs": [],
   "source": [
    "print = \"abc\""
   ]
  },
  {
   "cell_type": "code",
   "execution_count": null,
   "id": "8e75be9d",
   "metadata": {},
   "outputs": [],
   "source": []
  }
 ],
 "metadata": {
  "kernelspec": {
   "display_name": "Python 3 (ipykernel)",
   "language": "python",
   "name": "python3"
  },
  "language_info": {
   "codemirror_mode": {
    "name": "ipython",
    "version": 3
   },
   "file_extension": ".py",
   "mimetype": "text/x-python",
   "name": "python",
   "nbconvert_exporter": "python",
   "pygments_lexer": "ipython3",
   "version": "3.10.4"
  }
 },
 "nbformat": 4,
 "nbformat_minor": 5
}
